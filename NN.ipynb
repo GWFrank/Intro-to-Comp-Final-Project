{
 "metadata": {
  "language_info": {
   "codemirror_mode": {
    "name": "ipython",
    "version": 3
   },
   "file_extension": ".py",
   "mimetype": "text/x-python",
   "name": "python",
   "nbconvert_exporter": "python",
   "pygments_lexer": "ipython3",
   "version": "3.8.5-final"
  },
  "orig_nbformat": 2,
  "kernelspec": {
   "name": "python3",
   "display_name": "Python 3",
   "language": "python"
  }
 },
 "nbformat": 4,
 "nbformat_minor": 2,
 "cells": [
  {
   "cell_type": "code",
   "execution_count": 1,
   "metadata": {},
   "outputs": [],
   "source": [
    "import tensorflow as tf\n",
    "import numpy as np\n",
    "import multiprocessing as mp\n",
    "\n",
    "from agent.GWFrank_func.match_agents import matchup, matchup_mp, playgame\n",
    "from agent.GWFrank_func.test_agent_class import MinimaxTestAgent, LittleRandomTestAgent, RandomTestAgent\n",
    "from agent.GWFrank_func.eval_funcs import posEval, posEvalEndgameVariation"
   ]
  },
  {
   "cell_type": "code",
   "execution_count": 2,
   "metadata": {},
   "outputs": [],
   "source": [
    "# Parameters.\n",
    "learning_rate = 0.1\n",
    "training_steps = 10\n",
    "display_step = 1"
   ]
  },
  {
   "cell_type": "code",
   "execution_count": 3,
   "metadata": {},
   "outputs": [],
   "source": [
    "#Create dataset\n",
    "W = tf.Variable(tf.ones(64))\n",
    "# b = tf.Variable(tf.zeros(64))\n",
    "def linearEval(obs):\n",
    "    global W\n",
    "    obs = np.array(obs)\n",
    "    return np.dot(W.numpy(), obs)"
   ]
  },
  {
   "cell_type": "code",
   "execution_count": 4,
   "metadata": {},
   "outputs": [],
   "source": [
    "# Stochastic Gradient Descent Optimizer.\n",
    "optimizer = tf.optimizers.SGD(learning_rate)\n",
    "\n",
    "target_agent = MinimaxTestAgent(posEvalEndgameVariation, 4)"
   ]
  },
  {
   "cell_type": "code",
   "execution_count": 2,
   "metadata": {},
   "outputs": [],
   "source": [
    "def loss_func(W):\n",
    "    global target_agent\n",
    "    print(\"loss\")\n",
    "    W_agent = MinimaxTestAgent(linearEval, 4)\n",
    "    loss_ratio = tf.Variable(matchup_mp(target_agent, W_agent, 50))\n",
    "    return loss_ratio"
   ]
  },
  {
   "cell_type": "code",
   "execution_count": 6,
   "metadata": {},
   "outputs": [],
   "source": [
    "def run_optimization():\n",
    "    # Wrap computation inside a GradientTape for automatic differentiation.\n",
    "    with tf.GradientTape() as g:\n",
    "        loss = loss_func(W)\n",
    "\n",
    "    # Compute gradients.\n",
    "    gradients = g.gradient(loss, [W])\n",
    "    \n",
    "    # Update W and b following gradients.\n",
    "    optimizer.apply_gradients(zip(gradients, [W]))"
   ]
  },
  {
   "cell_type": "code",
   "execution_count": 7,
   "metadata": {},
   "outputs": [
    {
     "output_type": "stream",
     "name": "stdout",
     "text": [
      "loss\n"
     ]
    }
   ],
   "source": [
    "if __name__ == \"__main__\":\n",
    "    for step in range(1, training_steps + 1):\n",
    "    # Run the optimization to update W and b values.\n",
    "        run_optimization() \n",
    "        if step % display_step == 0:\n",
    "            pred = linear_regression(X)\n",
    "            loss = mean_square(pred, Y)\n",
    "            print(\"step: %i, loss: %f, W: %f, b: %f\" % (step, loss, W.numpy(), b.numpy()))"
   ]
  },
  {
   "cell_type": "code",
   "execution_count": null,
   "metadata": {},
   "outputs": [],
   "source": []
  }
 ]
}